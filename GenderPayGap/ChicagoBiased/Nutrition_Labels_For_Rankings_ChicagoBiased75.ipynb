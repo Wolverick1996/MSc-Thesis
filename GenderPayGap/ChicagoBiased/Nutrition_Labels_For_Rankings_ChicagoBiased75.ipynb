{
 "cells": [
  {
   "cell_type": "code",
   "execution_count": 1,
   "metadata": {},
   "outputs": [],
   "source": [
    "import math\n",
    "import numpy as np\n",
    "import pandas as pd\n",
    "from scipy.stats import norm\n",
    "from nutrition_label_utility import *\n",
    "import matplotlib.pyplot as plt\n",
    "import seaborn as sns\n",
    "%matplotlib inline"
   ]
  },
  {
   "cell_type": "markdown",
   "metadata": {},
   "source": [
    "## 1. Use your own dataset or our sample datasets"
   ]
  },
  {
   "cell_type": "markdown",
   "metadata": {},
   "source": [
    "## Sample datasets\n",
    "### CS ranking\n",
    "[CSranking_faculty30.csv](dataset/CSranking_faculty30.csv) is a dataset with an additional sensitive attribute 'Department Size' that is a binarized attribute from 'Facult' in the dataset [CS Rankings (CSR)] (https://csrankings.org). It is merged with additional attributes from the [NRC assessment dataset] (http://www.nap.edu/rdp). This dataset has the following attributes: \n",
    "- Average Count (CSR) computes the geometric mean of the adjusted number of publications in each area by institution\n",
    "- Faculty (CSR) is the number of faculty in the department\n",
    "- GRE (NRC) is the average GRE scores (2004-2006)\n",
    "- Department size (CSR) is a binary attribute derived from Faculty. Small department has the number of faculty less or equal than 30.\n",
    "- Region (NRC) is one of Northeast(NE), Midwest(MW), South Atlantic(SA), South Central(SC), West(W) regions in the US\n",
    "- Pub Count (NRC) is the average number of publications per faculty (2000-2006)"
   ]
  },
  {
   "cell_type": "markdown",
   "metadata": {},
   "source": [
    "### German Credit\n",
    "[GermanCredit_age25.csv](dataset/GermanCredit_age25.csv) is a dataset with a binarized sensitive attribute 'AgeBinary' according to the threshold 25 from the dataset [German credit dataset](https://archive.ics.uci.edu/ml/datasets/Statlog+%28German+Credit+Data%29). It is originally hosted on UCI’s Machine Learning Repository, contains approximately 1000 observations, with 20 variables. The original dependent variable is whether or not an “individual” has good credit record."
   ]
  },
  {
   "cell_type": "markdown",
   "metadata": {},
   "source": [
    "### COMPAS\n",
    "[COMPAS_gender.csv](dataset/COMPAS_gender.csv) includes approximately sampled 1000 users' recidivism information from dataset [COMPAS](https://github.com/propublica/compas-analysis). It contains criminal history, jail and prison time, demographics and COMPAS risk scores for defendants from Broward County. "
   ]
  },
  {
   "cell_type": "markdown",
   "metadata": {},
   "source": [
    "### Adult\n",
    "[Adult_sample.csv](dataset/adult_sample.csv) includes includes 1000 complete records that are sampled from dataset [Adult](https://archive.ics.uci.edu/ml/datasets/adult) (with 48842 records). The extraction was done by Barry Becker from the 1994 Census database. A set of reasonably clean records was extracted using the following conditions: ((AAGE>16) && (AGI>100) && (AFNLWGT>1)&& (HRSWK>0)). Prediction task is to determine whether a person makes over 50K a year."
   ]
  },
  {
   "cell_type": "markdown",
   "metadata": {},
   "source": [
    "### Import dataset"
   ]
  },
  {
   "cell_type": "code",
   "execution_count": 2,
   "metadata": {},
   "outputs": [
    {
     "data": {
      "text/html": [
       "<div>\n",
       "<style scoped>\n",
       "    .dataframe tbody tr th:only-of-type {\n",
       "        vertical-align: middle;\n",
       "    }\n",
       "\n",
       "    .dataframe tbody tr th {\n",
       "        vertical-align: top;\n",
       "    }\n",
       "\n",
       "    .dataframe thead th {\n",
       "        text-align: right;\n",
       "    }\n",
       "</style>\n",
       "<table border=\"1\" class=\"dataframe\">\n",
       "  <thead>\n",
       "    <tr style=\"text-align: right;\">\n",
       "      <th></th>\n",
       "      <th>Name</th>\n",
       "      <th>Job Title</th>\n",
       "      <th>Department</th>\n",
       "      <th>Status</th>\n",
       "      <th>Salary or Hourly</th>\n",
       "      <th>Annual Salary</th>\n",
       "      <th>Gender</th>\n",
       "    </tr>\n",
       "  </thead>\n",
       "  <tbody>\n",
       "    <tr>\n",
       "      <th>0</th>\n",
       "      <td>AARON,  JEFFERY M</td>\n",
       "      <td>33</td>\n",
       "      <td>14</td>\n",
       "      <td>1</td>\n",
       "      <td>1</td>\n",
       "      <td>118998.0</td>\n",
       "      <td>male</td>\n",
       "    </tr>\n",
       "    <tr>\n",
       "      <th>1</th>\n",
       "      <td>AARON,  KARINA</td>\n",
       "      <td>28</td>\n",
       "      <td>14</td>\n",
       "      <td>1</td>\n",
       "      <td>1</td>\n",
       "      <td>73080.0</td>\n",
       "      <td>female</td>\n",
       "    </tr>\n",
       "    <tr>\n",
       "      <th>2</th>\n",
       "      <td>ABARCA,  FRANCES J</td>\n",
       "      <td>27</td>\n",
       "      <td>14</td>\n",
       "      <td>1</td>\n",
       "      <td>1</td>\n",
       "      <td>54382.5</td>\n",
       "      <td>female</td>\n",
       "    </tr>\n",
       "    <tr>\n",
       "      <th>3</th>\n",
       "      <td>ABASCAL,  REECE E</td>\n",
       "      <td>34</td>\n",
       "      <td>13</td>\n",
       "      <td>0</td>\n",
       "      <td>0</td>\n",
       "      <td>22474.4</td>\n",
       "      <td>male</td>\n",
       "    </tr>\n",
       "    <tr>\n",
       "      <th>4</th>\n",
       "      <td>ABBATACOLA,  ROBERT J</td>\n",
       "      <td>5</td>\n",
       "      <td>1</td>\n",
       "      <td>1</td>\n",
       "      <td>0</td>\n",
       "      <td>104000.0</td>\n",
       "      <td>male</td>\n",
       "    </tr>\n",
       "  </tbody>\n",
       "</table>\n",
       "</div>"
      ],
      "text/plain": [
       "                    Name  Job Title  Department  Status  Salary or Hourly  \\\n",
       "0      AARON,  JEFFERY M         33          14       1                 1   \n",
       "1         AARON,  KARINA         28          14       1                 1   \n",
       "2     ABARCA,  FRANCES J         27          14       1                 1   \n",
       "3      ABASCAL,  REECE E         34          13       0                 0   \n",
       "4  ABBATACOLA,  ROBERT J          5           1       1                 0   \n",
       "\n",
       "   Annual Salary  Gender  \n",
       "0       118998.0    male  \n",
       "1        73080.0  female  \n",
       "2        54382.5  female  \n",
       "3        22474.4    male  \n",
       "4       104000.0    male  "
      ]
     },
     "execution_count": 2,
     "metadata": {},
     "output_type": "execute_result"
    }
   ],
   "source": [
    "# CS ranking\n",
    "# data = pd.read_csv(\"dataset/CSranking_faculty30.csv\")\n",
    "## German credit\n",
    "# data = pd.read_csv(\"dataset/GermanCredit_age25.csv\")\n",
    "## COMPAS\n",
    "# data = pd.read_csv(\"dataset/ProPublica_gender.csv\")\n",
    "## Adult\n",
    "data = pd.read_csv(\"dataset/ChicagoBiased75_RankingFacts.csv\")\n",
    "data.head(5)"
   ]
  },
  {
   "cell_type": "markdown",
   "metadata": {},
   "source": [
    "## 2. Exploratory Data Analysis\n",
    "- Pre-process data set as need.\n",
    "- Explore the data set before choose the ranker."
   ]
  },
  {
   "cell_type": "markdown",
   "metadata": {},
   "source": [
    "### Preprocess data"
   ]
  },
  {
   "cell_type": "code",
   "execution_count": 3,
   "metadata": {},
   "outputs": [
    {
     "data": {
      "text/html": [
       "<div>\n",
       "<style scoped>\n",
       "    .dataframe tbody tr th:only-of-type {\n",
       "        vertical-align: middle;\n",
       "    }\n",
       "\n",
       "    .dataframe tbody tr th {\n",
       "        vertical-align: top;\n",
       "    }\n",
       "\n",
       "    .dataframe thead th {\n",
       "        text-align: right;\n",
       "    }\n",
       "</style>\n",
       "<table border=\"1\" class=\"dataframe\">\n",
       "  <thead>\n",
       "    <tr style=\"text-align: right;\">\n",
       "      <th></th>\n",
       "      <th>Name</th>\n",
       "      <th>Job Title</th>\n",
       "      <th>Department</th>\n",
       "      <th>Status</th>\n",
       "      <th>Salary or Hourly</th>\n",
       "      <th>Annual Salary</th>\n",
       "      <th>Gender</th>\n",
       "    </tr>\n",
       "  </thead>\n",
       "  <tbody>\n",
       "    <tr>\n",
       "      <th>0</th>\n",
       "      <td>AARON,  JEFFERY M</td>\n",
       "      <td>0.970588</td>\n",
       "      <td>0.736842</td>\n",
       "      <td>1.0</td>\n",
       "      <td>1.0</td>\n",
       "      <td>0.784593</td>\n",
       "      <td>male</td>\n",
       "    </tr>\n",
       "    <tr>\n",
       "      <th>1</th>\n",
       "      <td>AARON,  KARINA</td>\n",
       "      <td>0.823529</td>\n",
       "      <td>0.736842</td>\n",
       "      <td>1.0</td>\n",
       "      <td>1.0</td>\n",
       "      <td>0.475768</td>\n",
       "      <td>female</td>\n",
       "    </tr>\n",
       "    <tr>\n",
       "      <th>2</th>\n",
       "      <td>ABARCA,  FRANCES J</td>\n",
       "      <td>0.794118</td>\n",
       "      <td>0.736842</td>\n",
       "      <td>1.0</td>\n",
       "      <td>1.0</td>\n",
       "      <td>0.350016</td>\n",
       "      <td>female</td>\n",
       "    </tr>\n",
       "    <tr>\n",
       "      <th>3</th>\n",
       "      <td>ABASCAL,  REECE E</td>\n",
       "      <td>1.000000</td>\n",
       "      <td>0.684211</td>\n",
       "      <td>0.0</td>\n",
       "      <td>0.0</td>\n",
       "      <td>0.135416</td>\n",
       "      <td>male</td>\n",
       "    </tr>\n",
       "    <tr>\n",
       "      <th>4</th>\n",
       "      <td>ABBATACOLA,  ROBERT J</td>\n",
       "      <td>0.147059</td>\n",
       "      <td>0.052632</td>\n",
       "      <td>1.0</td>\n",
       "      <td>0.0</td>\n",
       "      <td>0.683723</td>\n",
       "      <td>male</td>\n",
       "    </tr>\n",
       "  </tbody>\n",
       "</table>\n",
       "</div>"
      ],
      "text/plain": [
       "                    Name  Job Title  Department  Status  Salary or Hourly  \\\n",
       "0      AARON,  JEFFERY M   0.970588    0.736842     1.0               1.0   \n",
       "1         AARON,  KARINA   0.823529    0.736842     1.0               1.0   \n",
       "2     ABARCA,  FRANCES J   0.794118    0.736842     1.0               1.0   \n",
       "3      ABASCAL,  REECE E   1.000000    0.684211     0.0               0.0   \n",
       "4  ABBATACOLA,  ROBERT J   0.147059    0.052632     1.0               0.0   \n",
       "\n",
       "   Annual Salary  Gender  \n",
       "0       0.784593    male  \n",
       "1       0.475768  female  \n",
       "2       0.350016  female  \n",
       "3       0.135416    male  \n",
       "4       0.683723    male  "
      ]
     },
     "execution_count": 3,
     "metadata": {},
     "output_type": "execute_result"
    }
   ],
   "source": [
    "## exclude the categorical data during preprocessing\n",
    "# ignore_atts = [\"College Name\",\"Department Size\", \"Regional Code\"] # for CS ranking\n",
    "# ignore_atts = [\"sex\", \"race\", \"c_charge_degree\", \"r_charge_degree\", \"v_score_text\", \"score_text\"] # for COMPAS\n",
    "# ignore_atts = [\"workclass\", \"education\", \"marital_status\", \"occupation\", \"relationship\", \"race\", \"sex\", \"native_country\", \"class\"] # for adult\n",
    "ignore_atts = [\"Name\", \"Gender\"]\n",
    "\n",
    "cur_data = data.copy()\n",
    "norm_data = normalizeDataset(cur_data, ignore_atts)\n",
    "cur_data = data.copy()\n",
    "standarded_data = standardizeData(cur_data, ignore_atts)\n",
    "\n",
    "norm_data.head(5)"
   ]
  },
  {
   "cell_type": "markdown",
   "metadata": {},
   "source": [
    "### Attribute Distribution Visualization"
   ]
  },
  {
   "cell_type": "code",
   "execution_count": 4,
   "metadata": {},
   "outputs": [],
   "source": [
    "def visualize_att_dist(_data, _att, _category=False):\n",
    "    plt.figure(figsize=[12,5], dpi=100)\n",
    "    sns.set(style=\"darkgrid\")\n",
    "    sns.set(font_scale = 1.5)\n",
    "    if _category: # for categorical attribute\n",
    "        vis_data = _data[_att].value_counts()\n",
    "        ax = sns.barplot(x=vis_data.index, y=vis_data.values);\n",
    "        ax.set_xlabel(_att)\n",
    "        if len(vis_data) >= 5:\n",
    "            ax.set_xticklabels(ax.get_xticklabels(), rotation=45)\n",
    "    else:\n",
    "        ax = sns.distplot(_data[_att], kde=False, color='steelblue');\n",
    "    ax.set_ylabel(\"Count\")\n",
    "    plt.tight_layout()"
   ]
  },
  {
   "cell_type": "code",
   "execution_count": 5,
   "metadata": {},
   "outputs": [
    {
     "name": "stderr",
     "output_type": "stream",
     "text": [
      "/home/corona/anaconda3/lib/python3.8/site-packages/seaborn/distributions.py:2551: FutureWarning: `distplot` is a deprecated function and will be removed in a future version. Please adapt your code to use either `displot` (a figure-level function with similar flexibility) or `histplot` (an axes-level function for histograms).\n",
      "  warnings.warn(msg, FutureWarning)\n"
     ]
    },
    {
     "data": {
      "image/png": "[encoded data removed]",
      "text/plain": [
       "<Figure size 1200x500 with 1 Axes>"
      ]
     },
     "metadata": {
      "needs_background": "light"
     },
     "output_type": "display_data"
    },
    {
     "data": {
      "image/png": "[encoded data removed]",
      "text/plain": [
       "<Figure size 1200x500 with 1 Axes>"
      ]
     },
     "metadata": {},
     "output_type": "display_data"
    }
   ],
   "source": [
    "# # for COMPAS\n",
    "# visualize_att_dist(data, \"priors_count\")\n",
    "# visualize_att_dist(data, \"race\", _category=True)\n",
    "# for adult\n",
    "# visualize_att_dist(data, \"age\")\n",
    "# visualize_att_dist(data, \"race\", _category=True)\n",
    "visualize_att_dist(data, \"Annual Salary\")\n",
    "visualize_att_dist(data, \"Gender\", _category=True)"
   ]
  },
  {
   "cell_type": "markdown",
   "metadata": {},
   "source": [
    "### Attribute Correlation Visualization"
   ]
  },
  {
   "cell_type": "code",
   "execution_count": 6,
   "metadata": {},
   "outputs": [
    {
     "name": "stdout",
     "output_type": "stream",
     "text": [
      "--------------- CORRELATIONS ---------------\n",
      "                  Job Title  Department    Status  Salary or Hourly  \\\n",
      "Job Title          1.000000    0.380838 -0.041014          0.124710   \n",
      "Department         0.380838    1.000000  0.029671         -0.086315   \n",
      "Status            -0.041014    0.029671  1.000000          0.359086   \n",
      "Salary or Hourly   0.124710   -0.086315  0.359086          1.000000   \n",
      "Annual Salary     -0.122441   -0.082477  0.547063          0.251346   \n",
      "\n",
      "                  Annual Salary  \n",
      "Job Title             -0.122441  \n",
      "Department            -0.082477  \n",
      "Status                 0.547063  \n",
      "Salary or Hourly       0.251346  \n",
      "Annual Salary          1.000000  \n",
      "--------------- CREATE A HEATMAP ---------------\n"
     ]
    },
    {
     "data": {
      "image/png": "[encoded data removed]",
      "text/plain": [
       "<Figure size 432x288 with 2 Axes>"
      ]
     },
     "metadata": {},
     "output_type": "display_data"
    }
   ],
   "source": [
    "corr_df = standarded_data.corr(method='pearson')\n",
    "print(\"--------------- CORRELATIONS ---------------\")\n",
    "print(corr_df.head(len(data)))\n",
    "print(\"--------------- CREATE A HEATMAP ---------------\")\n",
    "# Create a mask to display only the lower triangle of the matrix\n",
    "mask = np.zeros_like(corr_df)\n",
    "mask[np.triu_indices_from(mask)] = True\n",
    "sns.heatmap(corr_df, cmap='RdYlGn_r', vmax=1.0, vmin=-1.0 , mask = mask, linewidths=2.5)\n",
    "plt.yticks(rotation=0)\n",
    "plt.xticks(rotation=90)\n",
    "plt.show()"
   ]
  },
  {
   "cell_type": "markdown",
   "metadata": {},
   "source": [
    "## 3. Specify your ranker\n",
    "- Can be a rule-based ranker, e.g., scores are generated through a rule: f(x) = w_1 * Faculty(x) + w_2 * Average Count(x) + w_3 * GRE(x) (this ranking methodology is inspired by US World & News Report and CS Rankings)\n",
    "- Or can be other possible rankers: [Learning to Rank methods](http://www.morganclaypool.com/doi/abs/10.2200/S00607ED2V01Y201410HLT026)"
   ]
  },
  {
   "cell_type": "markdown",
   "metadata": {},
   "source": [
    "### Rule-based ranker"
   ]
  },
  {
   "cell_type": "code",
   "execution_count": 7,
   "metadata": {},
   "outputs": [
    {
     "data": {
      "text/html": [
       "<div>\n",
       "<style scoped>\n",
       "    .dataframe tbody tr th:only-of-type {\n",
       "        vertical-align: middle;\n",
       "    }\n",
       "\n",
       "    .dataframe tbody tr th {\n",
       "        vertical-align: top;\n",
       "    }\n",
       "\n",
       "    .dataframe thead th {\n",
       "        text-align: right;\n",
       "    }\n",
       "</style>\n",
       "<table border=\"1\" class=\"dataframe\">\n",
       "  <thead>\n",
       "    <tr style=\"text-align: right;\">\n",
       "      <th></th>\n",
       "      <th>Name</th>\n",
       "      <th>Job Title</th>\n",
       "      <th>Department</th>\n",
       "      <th>Status</th>\n",
       "      <th>Salary or Hourly</th>\n",
       "      <th>Annual Salary</th>\n",
       "      <th>Gender</th>\n",
       "      <th>Score</th>\n",
       "    </tr>\n",
       "  </thead>\n",
       "  <tbody>\n",
       "    <tr>\n",
       "      <th>0</th>\n",
       "      <td>AARON,  JEFFERY M</td>\n",
       "      <td>0.970588</td>\n",
       "      <td>0.736842</td>\n",
       "      <td>1.0</td>\n",
       "      <td>1.0</td>\n",
       "      <td>0.784593</td>\n",
       "      <td>male</td>\n",
       "      <td>4.492023</td>\n",
       "    </tr>\n",
       "    <tr>\n",
       "      <th>1</th>\n",
       "      <td>AARON,  KARINA</td>\n",
       "      <td>0.823529</td>\n",
       "      <td>0.736842</td>\n",
       "      <td>1.0</td>\n",
       "      <td>1.0</td>\n",
       "      <td>0.475768</td>\n",
       "      <td>female</td>\n",
       "      <td>4.036139</td>\n",
       "    </tr>\n",
       "    <tr>\n",
       "      <th>2</th>\n",
       "      <td>ABARCA,  FRANCES J</td>\n",
       "      <td>0.794118</td>\n",
       "      <td>0.736842</td>\n",
       "      <td>1.0</td>\n",
       "      <td>1.0</td>\n",
       "      <td>0.350016</td>\n",
       "      <td>female</td>\n",
       "      <td>3.880976</td>\n",
       "    </tr>\n",
       "    <tr>\n",
       "      <th>3</th>\n",
       "      <td>ABASCAL,  REECE E</td>\n",
       "      <td>1.000000</td>\n",
       "      <td>0.684211</td>\n",
       "      <td>0.0</td>\n",
       "      <td>0.0</td>\n",
       "      <td>0.135416</td>\n",
       "      <td>male</td>\n",
       "      <td>1.819626</td>\n",
       "    </tr>\n",
       "    <tr>\n",
       "      <th>4</th>\n",
       "      <td>ABBATACOLA,  ROBERT J</td>\n",
       "      <td>0.147059</td>\n",
       "      <td>0.052632</td>\n",
       "      <td>1.0</td>\n",
       "      <td>0.0</td>\n",
       "      <td>0.683723</td>\n",
       "      <td>male</td>\n",
       "      <td>1.883413</td>\n",
       "    </tr>\n",
       "  </tbody>\n",
       "</table>\n",
       "</div>"
      ],
      "text/plain": [
       "                    Name  Job Title  Department  Status  Salary or Hourly  \\\n",
       "0      AARON,  JEFFERY M   0.970588    0.736842     1.0               1.0   \n",
       "1         AARON,  KARINA   0.823529    0.736842     1.0               1.0   \n",
       "2     ABARCA,  FRANCES J   0.794118    0.736842     1.0               1.0   \n",
       "3      ABASCAL,  REECE E   1.000000    0.684211     0.0               0.0   \n",
       "4  ABBATACOLA,  ROBERT J   0.147059    0.052632     1.0               0.0   \n",
       "\n",
       "   Annual Salary  Gender     Score  \n",
       "0       0.784593    male  4.492023  \n",
       "1       0.475768  female  4.036139  \n",
       "2       0.350016  female  3.880976  \n",
       "3       0.135416    male  1.819626  \n",
       "4       0.683723    male  1.883413  "
      ]
     },
     "execution_count": 7,
     "metadata": {},
     "output_type": "execute_result"
    }
   ],
   "source": [
    "# specify the attributes used in the ranker and its correpsonding weight vector\n",
    "# # for CS Ranking\n",
    "# chosen_atts = [\"Average Count\", \"Faculty\", \"GRE\"]\n",
    "# weights = [1, 1, 1]\n",
    "\n",
    "# # for COMPAS for illustrative purpose\n",
    "# chosen_atts = [\"age\", \"priors_count\", \"decile_score\"]\n",
    "# weights = [1, 1, 1]\n",
    "\n",
    "# for adult for illustrative purpose\n",
    "# chosen_atts = [\"age\", \"hours_per_week\", \"education_num\"]\n",
    "# weights = [1, 1, 1]\n",
    "chosen_atts = [\"Job Title\", \"Department\", \"Status\", \"Salary or Hourly\", \"Annual Salary\"]\n",
    "weights = [1, 1, 1, 1, 1]\n",
    "\n",
    "# must use preprocessed data such that the attributes are comparable\n",
    "norm_data[\"Score\"] = sum([weights[idx]*norm_data[atti] for idx, atti in enumerate(chosen_atts)])\n",
    "norm_data.head(5)"
   ]
  },
  {
   "cell_type": "markdown",
   "metadata": {},
   "source": [
    "## 4. Nutrition Labels for your ranker\n",
    "- Web application of Nutrition Labels for Rankings is alive in http://demo.dataresponsibly.com/rankingfacts/\n",
    "- Focus on the following examplified interpretability questions regarding the ranked outcomes. \n",
    "\n",
    "1) (Data) What would be a good feature set for the decisions? \n",
    "\n",
    "2) (Outcomes) Is 10.5 a high score or a low score? \n",
    "   - The score generation rule alone does not indicate the relative rank of an item. \n",
    "   - It depends on how 10.5 compares to the scores of other items.\n",
    "   \n",
    "3) (Outcomes) Is the generated scores stable? \n",
    "   - Unless raw scores are disclosed, the user has no information about the magnitude of the difference in scores   between items that appear in consecutive ranks. \n",
    "   - In CS ranking dataset, CMU (18.3) has a much higher score than the immediately following MIT (15). This is in contrast to UIUC (10.5, rank 5) and UW (10.3, rank 6), which arenearly tied.\n",
    "   \n",
    "4) (Outcomes) Is there any unfair treatment*?\n",
    "\n",
    "5) (Outcomes) How are departments represented in the ranking?\n",
    "\n",
    "6) (Rankers) How to interpretate the weight? \n",
    "   - The weight of an attribute in the score generation rule does not determine its impact on the outcome.\n",
    "   - For example, given f(x) = 0.2 * Faculty(x) + 0.3 * Average Count(x) + 0.5 * GRE(x), yet for data in Table 1, attribute Faculty will be the deciding factor that sets apart top-ranked departments from those in lower ranks. \n",
    "   - This is because the value of Faculty changes most dramatically in the data, and because it correlates with     Average Count (in effect, double-counting).\n",
    "    \n",
    "7) (Rankers) Is the ranking methodology stable? \n",
    "   - For example, a score generation rule:  f(x) = Pub Count(x) + GRE(x) would be unstable, because the values of these attributes are both very close for many of the items and induce different rankings.\n",
    "   - Prioritizing one attribute over the other slightly would cause significant re-shuffling.\n"
   ]
  },
  {
   "cell_type": "markdown",
   "metadata": {},
   "source": [
    "## Recipe and Ingredients\n",
    "- These two labels help to explain the ranking methodology. \n",
    "- The Recipe label succinctly describes the ranking algorithm. It states the explicit intentions of the designer of the score generation rule about which attributes matter and to what extent.\n",
    "    - For example, for a linear score generation rule, each attribute would be listed together with its weight. \n",
    "- The Ingredients label lists attributes most material to the ranked outcome, in order of importance. \n",
    "    - It may show show additional attributes associated with high rank. Such associations can be derived with linear models or with other Black-box methods.\n",
    "    - For example, for a linear model, this list could present the attributes with the highest learned weights. \n",
    "- The Recipe and Ingredients labels also list statistics of the attributes in the Recipe and in the Ingredients.\n",
    "    - minimum, maximum and median values at the top-10 and over-all."
   ]
  },
  {
   "cell_type": "code",
   "execution_count": 8,
   "metadata": {},
   "outputs": [],
   "source": [
    "def compute_statistic(_data, _atts):\n",
    "    \"\"\"\n",
    "    Compute the statistics of input attributes.\n",
    "\n",
    "    Attributes:\n",
    "        _data: dataframe that stored the data\n",
    "        _atts: array that stores the attributes to be computed\n",
    "    Return:  json data of computed statistics\n",
    "    \"\"\"\n",
    "    output_df = pd.DataFrame(columns=[\"attribute\", \"median\", \"mean\", \"min\", \"max\"])\n",
    "    for atti in _atts:\n",
    "        atti_stats = _data.describe().loc[[\"50%\", \"mean\", \"min\", \"max\"], atti].tolist()\n",
    "        output_df.loc[output_df.shape[0]] = [atti] + atti_stats\n",
    "    return output_df"
   ]
  },
  {
   "cell_type": "markdown",
   "metadata": {},
   "source": [
    "### Recipe for top-10 ranking"
   ]
  },
  {
   "cell_type": "code",
   "execution_count": 9,
   "metadata": {},
   "outputs": [
    {
     "name": "stdout",
     "output_type": "stream",
     "text": [
      "--------------- RANKER USE FOLLOWING ATTRIBUTES ---------------\n",
      "['Job Title', 'Department', 'Status', 'Salary or Hourly', 'Annual Salary']\n",
      "--------------- STATISTICALS OF ATTRIBUTES FOR TOP-10 RANKING ---------------\n"
     ]
    },
    {
     "data": {
      "text/html": [
       "<div>\n",
       "<style scoped>\n",
       "    .dataframe tbody tr th:only-of-type {\n",
       "        vertical-align: middle;\n",
       "    }\n",
       "\n",
       "    .dataframe tbody tr th {\n",
       "        vertical-align: top;\n",
       "    }\n",
       "\n",
       "    .dataframe thead th {\n",
       "        text-align: right;\n",
       "    }\n",
       "</style>\n",
       "<table border=\"1\" class=\"dataframe\">\n",
       "  <thead>\n",
       "    <tr style=\"text-align: right;\">\n",
       "      <th></th>\n",
       "      <th>attribute</th>\n",
       "      <th>median</th>\n",
       "      <th>mean</th>\n",
       "      <th>min</th>\n",
       "      <th>max</th>\n",
       "    </tr>\n",
       "  </thead>\n",
       "  <tbody>\n",
       "    <tr>\n",
       "      <th>0</th>\n",
       "      <td>Job Title</td>\n",
       "      <td>0.794118</td>\n",
       "      <td>0.661765</td>\n",
       "      <td>0.147059</td>\n",
       "      <td>1.000000</td>\n",
       "    </tr>\n",
       "    <tr>\n",
       "      <th>1</th>\n",
       "      <td>Department</td>\n",
       "      <td>0.736842</td>\n",
       "      <td>0.600000</td>\n",
       "      <td>0.052632</td>\n",
       "      <td>0.736842</td>\n",
       "    </tr>\n",
       "    <tr>\n",
       "      <th>2</th>\n",
       "      <td>Status</td>\n",
       "      <td>1.000000</td>\n",
       "      <td>0.800000</td>\n",
       "      <td>0.000000</td>\n",
       "      <td>1.000000</td>\n",
       "    </tr>\n",
       "    <tr>\n",
       "      <th>3</th>\n",
       "      <td>Salary or Hourly</td>\n",
       "      <td>1.000000</td>\n",
       "      <td>0.700000</td>\n",
       "      <td>0.000000</td>\n",
       "      <td>1.000000</td>\n",
       "    </tr>\n",
       "    <tr>\n",
       "      <th>4</th>\n",
       "      <td>Annual Salary</td>\n",
       "      <td>0.512671</td>\n",
       "      <td>0.475796</td>\n",
       "      <td>0.000000</td>\n",
       "      <td>0.784593</td>\n",
       "    </tr>\n",
       "  </tbody>\n",
       "</table>\n",
       "</div>"
      ],
      "text/plain": [
       "          attribute    median      mean       min       max\n",
       "0         Job Title  0.794118  0.661765  0.147059  1.000000\n",
       "1        Department  0.736842  0.600000  0.052632  0.736842\n",
       "2            Status  1.000000  0.800000  0.000000  1.000000\n",
       "3  Salary or Hourly  1.000000  0.700000  0.000000  1.000000\n",
       "4     Annual Salary  0.512671  0.475796  0.000000  0.784593"
      ]
     },
     "execution_count": 9,
     "metadata": {},
     "output_type": "execute_result"
    }
   ],
   "source": [
    "print(\"--------------- RANKER USE FOLLOWING ATTRIBUTES ---------------\")\n",
    "print(chosen_atts)\n",
    "print(\"--------------- STATISTICALS OF ATTRIBUTES FOR TOP-10 RANKING ---------------\")\n",
    "compute_statistic(norm_data.head(10), chosen_atts)"
   ]
  },
  {
   "cell_type": "markdown",
   "metadata": {},
   "source": [
    "### Recipe for overall ranking"
   ]
  },
  {
   "cell_type": "code",
   "execution_count": 10,
   "metadata": {},
   "outputs": [
    {
     "name": "stdout",
     "output_type": "stream",
     "text": [
      "--------------- STATISTICALS OF ATTRIBUTES FOR OVERALL RANKING ---------------\n"
     ]
    },
    {
     "data": {
      "text/html": [
       "<div>\n",
       "<style scoped>\n",
       "    .dataframe tbody tr th:only-of-type {\n",
       "        vertical-align: middle;\n",
       "    }\n",
       "\n",
       "    .dataframe tbody tr th {\n",
       "        vertical-align: top;\n",
       "    }\n",
       "\n",
       "    .dataframe thead th {\n",
       "        text-align: right;\n",
       "    }\n",
       "</style>\n",
       "<table border=\"1\" class=\"dataframe\">\n",
       "  <thead>\n",
       "    <tr style=\"text-align: right;\">\n",
       "      <th></th>\n",
       "      <th>attribute</th>\n",
       "      <th>median</th>\n",
       "      <th>mean</th>\n",
       "      <th>min</th>\n",
       "      <th>max</th>\n",
       "    </tr>\n",
       "  </thead>\n",
       "  <tbody>\n",
       "    <tr>\n",
       "      <th>0</th>\n",
       "      <td>Job Title</td>\n",
       "      <td>0.794118</td>\n",
       "      <td>0.646362</td>\n",
       "      <td>0.0</td>\n",
       "      <td>1.0</td>\n",
       "    </tr>\n",
       "    <tr>\n",
       "      <th>1</th>\n",
       "      <td>Department</td>\n",
       "      <td>0.736842</td>\n",
       "      <td>0.669478</td>\n",
       "      <td>0.0</td>\n",
       "      <td>1.0</td>\n",
       "    </tr>\n",
       "    <tr>\n",
       "      <th>2</th>\n",
       "      <td>Status</td>\n",
       "      <td>1.000000</td>\n",
       "      <td>0.968536</td>\n",
       "      <td>0.0</td>\n",
       "      <td>1.0</td>\n",
       "    </tr>\n",
       "    <tr>\n",
       "      <th>3</th>\n",
       "      <td>Salary or Hourly</td>\n",
       "      <td>1.000000</td>\n",
       "      <td>0.798759</td>\n",
       "      <td>0.0</td>\n",
       "      <td>1.0</td>\n",
       "    </tr>\n",
       "    <tr>\n",
       "      <th>4</th>\n",
       "      <td>Annual Salary</td>\n",
       "      <td>0.566230</td>\n",
       "      <td>0.558801</td>\n",
       "      <td>0.0</td>\n",
       "      <td>1.0</td>\n",
       "    </tr>\n",
       "  </tbody>\n",
       "</table>\n",
       "</div>"
      ],
      "text/plain": [
       "          attribute    median      mean  min  max\n",
       "0         Job Title  0.794118  0.646362  0.0  1.0\n",
       "1        Department  0.736842  0.669478  0.0  1.0\n",
       "2            Status  1.000000  0.968536  0.0  1.0\n",
       "3  Salary or Hourly  1.000000  0.798759  0.0  1.0\n",
       "4     Annual Salary  0.566230  0.558801  0.0  1.0"
      ]
     },
     "execution_count": 10,
     "metadata": {},
     "output_type": "execute_result"
    }
   ],
   "source": [
    "print(\"--------------- STATISTICALS OF ATTRIBUTES FOR OVERALL RANKING ---------------\")\n",
    "compute_statistic(norm_data, chosen_atts)"
   ]
  },
  {
   "cell_type": "markdown",
   "metadata": {},
   "source": [
    "### Ingredients"
   ]
  },
  {
   "cell_type": "code",
   "execution_count": 11,
   "metadata": {},
   "outputs": [],
   "source": [
    "def linear_correlation(_data, _y_col=\"Score\", top_threshold=0.5, round_default=2):\n",
    "    \"\"\"\n",
    "    Compute the correlation between attributes and generated scores using linear regression.\n",
    "\n",
    "    Attributes:\n",
    "        _data: dataframe that stored the data\n",
    "        _y_col: column name of Y variable\n",
    "        top_threshold: threshold of attribute coefficient\n",
    "        round_default: threshold of round function for the returned coefficient\n",
    "    Return:  list of correlated attributes and its coefficients\n",
    "    \"\"\"\n",
    "    num_atts = list(_data.iloc[:,:-1].describe().columns)\n",
    "    X = _data[num_atts].values\n",
    "    y = _data[_y_col].values\n",
    "\n",
    "    regr = linear_model.LinearRegression(normalize=False)\n",
    "    regr.fit(X, y)\n",
    "    for i in range(len(regr.coef_)):\n",
    "        regr.coef_[i] = round(regr.coef_[i], round_default)\n",
    "    # normalize coefficients to [-1,1]\n",
    "    max_coef = max(regr.coef_)\n",
    "    min_coef = min(regr.coef_)\n",
    "    abs_max = max(abs(max_coef),abs(min_coef))\n",
    "    norm_coef = []\n",
    "    for ci in regr.coef_:\n",
    "        new_ci = round(ci/abs_max,round_default)\n",
    "        norm_coef.append(new_ci)\n",
    "    coeff_zip = zip(norm_coef, num_atts)\n",
    "    return_coeff = {}\n",
    "    for ci, atti in coeff_zip:\n",
    "        if ci > top_threshold:\n",
    "            return_coeff[atti] = ci\n",
    "    return return_coeff"
   ]
  },
  {
   "cell_type": "code",
   "execution_count": 12,
   "metadata": {},
   "outputs": [
    {
     "name": "stdout",
     "output_type": "stream",
     "text": [
      "--------------- IMPORTANT ATTRIBUTES ---------------\n"
     ]
    },
    {
     "data": {
      "text/plain": [
       "{'Job Title': 1.0,\n",
       " 'Department': 1.0,\n",
       " 'Status': 1.0,\n",
       " 'Salary or Hourly': 1.0,\n",
       " 'Annual Salary': 1.0}"
      ]
     },
     "execution_count": 12,
     "metadata": {},
     "output_type": "execute_result"
    }
   ],
   "source": [
    "print(\"--------------- IMPORTANT ATTRIBUTES ---------------\")\n",
    "lg_weights = linear_correlation(norm_data)\n",
    "lg_weights"
   ]
  },
  {
   "cell_type": "markdown",
   "metadata": {},
   "source": [
    "### More details in Ingredients"
   ]
  },
  {
   "cell_type": "code",
   "execution_count": 13,
   "metadata": {},
   "outputs": [
    {
     "name": "stdout",
     "output_type": "stream",
     "text": [
      "--------------- STATISTICS OF IMPORTANT ATTRIBUTES for TOP-10 RANKING ---------------\n"
     ]
    }
   ],
   "source": [
    "learned_atts = lg_weights.keys()\n",
    "print(\"--------------- STATISTICS OF IMPORTANT ATTRIBUTES for TOP-10 RANKING ---------------\")\n",
    "if len(set(learned_atts).intersection(set(chosen_atts))) != len(chosen_atts):\n",
    "    print (compute_statistic(norm_data.head(10), learned_atts))\n",
    "else:\n",
    "    pass"
   ]
  },
  {
   "cell_type": "code",
   "execution_count": 14,
   "metadata": {},
   "outputs": [
    {
     "name": "stdout",
     "output_type": "stream",
     "text": [
      "--------------- STATISTICS OF IMPORTANT ATTRIBUTES FOR OVERALL RANKING ---------------\n"
     ]
    }
   ],
   "source": [
    "print(\"--------------- STATISTICS OF IMPORTANT ATTRIBUTES FOR OVERALL RANKING ---------------\")\n",
    "if len(set(learned_atts).intersection(set(chosen_atts))) != len(chosen_atts):\n",
    "    print (compute_statistic(norm_data, learned_atts))\n",
    "else:\n",
    "    pass"
   ]
  },
  {
   "cell_type": "markdown",
   "metadata": {},
   "source": [
    "## Stability\n",
    "- The Stability label explains whether the ranking methodology is robust on this particular dataset. \n",
    "    - An unstable ranking is one where slight changes to the data (e.g., due to uncertainty and noise), or to the methodology (e.g., by slightly adjusting the weights in a score-based ranker) could lead to a significant change in the output. \n",
    "- This Stability label reports a stability score, as a single number that indicates the extent of the change required for the ranking to change.\n",
    "    - The stability of the ranking is quantified as the slope of the line that is fit to the score distribution, at the top-10 and over-all.\n",
    "    - A score distribution is unstable if scores of items in adjacent ranks are close to each other (|slope| <= 0.25), and so a very small change in scores will lead to a change in the ranking. "
   ]
  },
  {
   "cell_type": "code",
   "execution_count": 15,
   "metadata": {},
   "outputs": [],
   "source": [
    "def visualize_stability(_data, _y_col=\"Score\", _top_n=100):\n",
    "    plt.figure(figsize=[6,5],dpi=100)\n",
    "    sns.set(style=\"darkgrid\")\n",
    "    sns.set(font_scale = 1.5)\n",
    "    vis_data = _data.head(_top_n)\n",
    "    vis_x = [x+1 for x in vis_data.index]\n",
    "    vis_y = sorted(vis_data[_y_col], reverse=True)\n",
    "    ax = sns.scatterplot(vis_x, vis_y, color=\"steelblue\");\n",
    "    ax.set_xlabel(\"Position\")\n",
    "    ax.set_ylabel(_y_col)\n",
    "    plt.tight_layout()\n",
    "def compute_slope_scores(_data, _y_col=\"Score\", round_default=2):\n",
    "    \"\"\"\n",
    "    Compute the slop of a list of scores.\n",
    "\n",
    "    Attributes:\n",
    "        _data: file name that stored the data\n",
    "        _y_col: column name of Y variable\n",
    "        round_default: threshold of round function for the returned stability\n",
    "    Return:  slope of scores in the input _data\n",
    "    \"\"\"\n",
    "    xd = [i for i in range(1,len(_data)+1)]\n",
    "    yd = _data[_y_col].values\n",
    "    par = np.polyfit(xd, yd, 1, full=True)\n",
    "    slope = par[0][0]\n",
    "    return abs(round(slope, round_default))"
   ]
  },
  {
   "cell_type": "code",
   "execution_count": 16,
   "metadata": {},
   "outputs": [
    {
     "name": "stdout",
     "output_type": "stream",
     "text": [
      "--------------- UNSTABLE AT TOP 10 (STABILITY AS 0.07) ---------------\n",
      "--------------- UNSTABLE OVERALL (STABILITY AS 0.0) ---------------\n"
     ]
    },
    {
     "name": "stderr",
     "output_type": "stream",
     "text": [
      "/home/corona/anaconda3/lib/python3.8/site-packages/seaborn/_decorators.py:36: FutureWarning: Pass the following variables as keyword args: x, y. From version 0.12, the only valid positional argument will be `data`, and passing other arguments without an explicit keyword will result in an error or misinterpretation.\n",
      "  warnings.warn(\n"
     ]
    },
    {
     "data": {
      "image/png": "[encoded data removed]",
      "text/plain": [
       "<Figure size 600x500 with 1 Axes>"
      ]
     },
     "metadata": {},
     "output_type": "display_data"
    }
   ],
   "source": [
    "top10_stability = compute_slope_scores(norm_data.head(10))\n",
    "if top10_stability <= 0.25:\n",
    "    print(\"--------------- UNSTABLE AT TOP 10 (STABILITY AS \"+str(top10_stability)+\") ---------------\")\n",
    "else:\n",
    "    print(\"--------------- STABLE AT TOP 10 (STABILITY AS \"+str(top10_stability)+\") ---------------\")\n",
    "all_stability = compute_slope_scores(norm_data)\n",
    "if all_stability <= 0.25:\n",
    "    print(\"--------------- UNSTABLE OVERALL (STABILITY AS \"+str(all_stability)+\") ---------------\")\n",
    "else:\n",
    "    print(\"--------------- STABLE OVERALL (STABILITY AS \"+str(all_stability)+\") ---------------\")\n",
    "visualize_stability(norm_data)"
   ]
  },
  {
   "cell_type": "markdown",
   "metadata": {},
   "source": [
    "## Fairness\n",
    "- The Fairness label quantifies whether the ranked output exhibits statistical parity with respect to one or more sensitive attributes, such as gender or race of individuals. \n",
    "- All these measures are statistical tests, and whether a result is fair is determined by the computed p-value.\n",
    "- NULL hypothesis is that ranking process is fair for protected group.\n",
    "- The results fo three measures of statistical parity are shown: [FA*IR](https://dl.acm.org/citation.cfm?doid=3132847.3132938), [proportion](https://doi.org/10.1007/s10618-017-0506-1), and [pairwise comparison](https://arxiv.org/pdf/1804.07890.pdf).\n",
    "- A ranking is considered unfair when the p-value of the corresponding statistical test falls below 0.05 or based on the adjusted alpha for FA*IR."
   ]
  },
  {
   "cell_type": "markdown",
   "metadata": {},
   "source": [
    "### FA* IR measure"
   ]
  },
  {
   "cell_type": "code",
   "execution_count": 17,
   "metadata": {},
   "outputs": [],
   "source": [
    "def compute_p_FAIR(_data, _att, _protected_group, _y_col=\"Score\", top_k = 100, round_default = 2):\n",
    "    \"\"\"\n",
    "    Compute p-value using FA*IR algorithm\n",
    "\n",
    "    Attributes:\n",
    "        _data: dataframe that stored the data\n",
    "        _att: sensitive attribute name\n",
    "        _protected_group: the value of sensitive attribute for protected group\n",
    "        _y_col: the column that stores the values of ranking\n",
    "        top_k: the top ranking to verify group fairness\n",
    "        round_default: threshold of round function\n",
    "    Return:  rounded p-value and adjusted significance level in FA*IR\n",
    "    \"\"\"\n",
    "    _data.sort_values(by=_y_col, ascending=False, inplace=True)\n",
    "    _data.reset_index(drop=True, inplace=True)\n",
    "    if len(_data)/2 < top_k:\n",
    "        top_k = int(len(_data)/2)\n",
    "    pos_protected = _data[_data[_att]==_protected_group].index+1\n",
    "    pro_prob = len(pos_protected)/len(_data)\n",
    "\n",
    "    # transform ranking to a ranking of tuples with (id,\"pro\")/(id,\"unpro\") to run FA*IR\n",
    "    transformed_ranking = []\n",
    "    for index, row in _data.head(top_k).iterrows():\n",
    "        if row[_att] == _protected_group:\n",
    "            transformed_ranking.append([index,\"pro\"])\n",
    "        else:\n",
    "            transformed_ranking.append([index,\"unpro\"])\n",
    "\n",
    "    p_value, isFair, posiFail, alpha_c, pro_needed_list = computeFairRankingProbability(top_k, pro_prob, transformed_ranking)\n",
    "    return p_value, isFair, posiFail, round(alpha_c,round_default)"
   ]
  },
  {
   "cell_type": "code",
   "execution_count": 18,
   "metadata": {},
   "outputs": [
    {
     "name": "stdout",
     "output_type": "stream",
     "text": [
      "--------------- GROUP FAIRNESS VERIFICATION CONSIDERING Gender ---------------\n",
      "--------------- FAIR FOR male (p=1.0, alpha=0.79) ---------------\n",
      "--------------- UNFAIR FOR female (p=1.0905381305073172e-10, alpha=0.8) FAIL AT RANK POSITION 13 ---------\n"
     ]
    }
   ],
   "source": [
    "# sensi_att = \"Department Size\" # for CS Ranking\n",
    "# sensi_att = \"sex\" # for COMPAS\n",
    "# sensi_att = \"sex\" # for adult\n",
    "sensi_att = \"Gender\"\n",
    "\n",
    "protected_groups = norm_data[sensi_att].unique()\n",
    "print(\"--------------- GROUP FAIRNESS VERIFICATION CONSIDERING \"+sensi_att+\" ---------------\")\n",
    "for vi in protected_groups:\n",
    "    vi_p, fair_res, pos_fail, vi_alpha = compute_p_FAIR(norm_data, sensi_att, vi)\n",
    "    if fair_res:\n",
    "        print(\"--------------- FAIR FOR \"+vi+\" (p=\"+str(vi_p)+\", alpha=\"+str(vi_alpha)+\") ---------------\")\n",
    "    else:\n",
    "        print(\"--------------- UNFAIR FOR \"+vi+\" (p=\"+str(vi_p)+\", alpha=\"+str(vi_alpha)+\") FAIL AT RANK POSITION \"+str(pos_fail)+\" ---------\")"
   ]
  },
  {
   "cell_type": "markdown",
   "metadata": {},
   "source": [
    "### Pairwise comparison"
   ]
  },
  {
   "cell_type": "code",
   "execution_count": 19,
   "metadata": {},
   "outputs": [],
   "source": [
    "def compute_p_pairs(_data, _att, _protected_group, _y_col=\"Score\", run_time = 100, round_default = 2):\n",
    "    \"\"\"\n",
    "    Compute p-value using Pairwise oracle\n",
    "\n",
    "    Attributes:\n",
    "        _data: dataframe that stored the data\n",
    "        _att: sensitive attribute name\n",
    "        _protected_group: the value of sensitive attribute for protected group\n",
    "        _y_col: the column that stores the values of ranking\n",
    "        run_time: simulation times for pairwise comparison\n",
    "        round_default: threshold of round function\n",
    "    Return:  rounded p-value\n",
    "    \"\"\"\n",
    "    _data.sort_values(by=_y_col, ascending=False, inplace=True)\n",
    "    _data.reset_index(drop=True, inplace=True)\n",
    "    pos_protected = _data[_data[_att]==_protected_group].index+1\n",
    "    pro_prob = len(pos_protected)/len(_data)\n",
    "    total_n = len(_data)\n",
    "    pro_n = len(pos_protected)\n",
    "    seed_random_ranking = [x for x in range(total_n)]  # list of IDs\n",
    "    seed_f_index = [x for x in range(pro_n)]  # list of IDs\n",
    "\n",
    "    sim_df = pd.DataFrame(columns=[\"Run\", \"pair_n\"])\n",
    "    # run the simulation of ranking generation, in each simulation, generate a fair ranking with input N and size of sensitive group\n",
    "    for ri in range(run_time):\n",
    "        output_ranking = mergeUnfairRanking(seed_random_ranking, seed_f_index, pro_prob)\n",
    "        position_pro_list = [i for i in range(total_n) if output_ranking[i] in seed_f_index]\n",
    "        count_sensi_prefered_pairs = 0\n",
    "        for i in range(len(position_pro_list)):\n",
    "            cur_position = position_pro_list[i]\n",
    "            left_sensi = pro_n - (i + 1)\n",
    "            count_sensi_prefered_pairs = count_sensi_prefered_pairs + (total_n - cur_position - left_sensi)\n",
    "        cur_row = [ri + 1, count_sensi_prefered_pairs]\n",
    "        sim_df.loc[sim_df.shape[0]] = cur_row\n",
    "\n",
    "    input_pair_n, _, _ = computePairN(_att, _protected_group, _data)\n",
    "    pair_samples = list(sim_df[\"pair_n\"].dropna())\n",
    "    return round(Cdf(pair_samples, input_pair_n), round_default)"
   ]
  },
  {
   "cell_type": "markdown",
   "metadata": {},
   "source": [
    "### Note that proportion method will take long time to finish with a larger dataset, e.g.  having more than 10,000 records. We use sampled dataset with 1,000 records to illustrate the computation."
   ]
  },
  {
   "cell_type": "code",
   "execution_count": 20,
   "metadata": {},
   "outputs": [
    {
     "name": "stdout",
     "output_type": "stream",
     "text": [
      "--------------- GROUP FAIRNESS VERIFICATION CONSIDERING Gender ---------------\n",
      "--------------- FAIR FOR male (p=1.0, alpha=0.05) ---------------\n",
      "--------------- UNFAIR FOR female (p=0.0, alpha=0.05) --------------\n"
     ]
    }
   ],
   "source": [
    "# sensi_att = \"Department Size\" # for CS Ranking\n",
    "# sensi_att = \"sex\" # for COMPAS\n",
    "# sensi_att = \"sex\" # for adult\n",
    "sensi_att = \"Gender\"\n",
    "\n",
    "protected_groups = norm_data[sensi_att].unique()\n",
    "print(\"--------------- GROUP FAIRNESS VERIFICATION CONSIDERING \"+sensi_att+\" ---------------\")\n",
    "for vi in protected_groups:\n",
    "    vi_p = compute_p_pairs(norm_data, sensi_att, vi)\n",
    "    if vi_p > 0.05:\n",
    "        print(\"--------------- FAIR FOR \"+vi+\" (p=\"+str(vi_p)+\", alpha=0.05) ---------------\")\n",
    "    else:\n",
    "        print(\"--------------- UNFAIR FOR \"+vi+\" (p=\"+str(vi_p)+\", alpha=0.05) --------------\")"
   ]
  },
  {
   "cell_type": "markdown",
   "metadata": {},
   "source": [
    "### Proportion"
   ]
  },
  {
   "cell_type": "code",
   "execution_count": 21,
   "metadata": {},
   "outputs": [],
   "source": [
    "def compute_p_proportion(_data, _att, _protected_group, _y_col=\"Score\", top_k = 100, round_default = 2):\n",
    "    \"\"\"\n",
    "    Compute p-value using Proportion oracle, i.e., z-test method of 4.1.3 in \"A survey on measuring indirect discrimination in machine learning\".\n",
    "\n",
    "    Attributes:\n",
    "        _data: dataframe that stored the data\n",
    "        _att: sensitive attribute name\n",
    "        _protected_group: the value of sensitive attribute for protected group\n",
    "        _y_col: the column that stores the values of ranking\n",
    "        top_k: the top ranking to verify group fairness\n",
    "        round_default: threshold of round function\n",
    "    Return:  rounded p-value\n",
    "    \"\"\"\n",
    "\n",
    "    _data.sort_values(by=_y_col, ascending=False, inplace=True)\n",
    "    _data.reset_index(drop=True, inplace=True)\n",
    "    if len(_data)/2 < top_k:\n",
    "        top_k = int(len(_data)/2)\n",
    "    total_n = len(_data)\n",
    "    pro_n = len(_data[_data[_att]==_protected_group])\n",
    "    unpro_n = total_n - pro_n\n",
    "\n",
    "    top_data = _data.head(top_k)\n",
    "    pro_k = len(top_data[top_data[_att]==_protected_group])\n",
    "    unpro_k = top_k - pro_k\n",
    "\n",
    "\n",
    "    pooledSE = math.sqrt((pro_k / pro_n * (1-pro_k/pro_n) / pro_n) + (unpro_k/unpro_n * (1-unpro_k/unpro_n) / unpro_n))\n",
    "\n",
    "    z_test = (unpro_k/unpro_n - pro_k/pro_n) / pooledSE\n",
    "    p_value = norm.sf(z_test)\n",
    "\n",
    "    return round(p_value,round_default)"
   ]
  },
  {
   "cell_type": "code",
   "execution_count": 22,
   "metadata": {
    "scrolled": true
   },
   "outputs": [
    {
     "name": "stdout",
     "output_type": "stream",
     "text": [
      "--------------- GROUP FAIRNESS VERIFICATION CONSIDERING Gender ---------------\n",
      "--------------- FAIR FOR male (p=1.0, alpha=0.05) ---------------\n",
      "--------------- UNFAIR FOR female (p=0.0, alpha=0.05) --------------\n"
     ]
    }
   ],
   "source": [
    "# sensi_att = \"Department Size\" # for CS Ranking\n",
    "# sensi_att = \"sex\" # for COMPAS\n",
    "# sensi_att = \"sex\" # for adult\n",
    "sensi_att = \"Gender\"\n",
    "\n",
    "protected_groups = norm_data[sensi_att].unique()\n",
    "print(\"--------------- GROUP FAIRNESS VERIFICATION CONSIDERING \"+sensi_att+\" ---------------\")\n",
    "for vi in protected_groups:\n",
    "    vi_p = compute_p_proportion(norm_data, sensi_att, vi)\n",
    "    if vi_p > 0.05:\n",
    "        print(\"--------------- FAIR FOR \"+vi+\" (p=\"+str(vi_p)+\", alpha=0.05) ---------------\")\n",
    "    else:\n",
    "        print(\"--------------- UNFAIR FOR \"+vi+\" (p=\"+str(vi_p)+\", alpha=0.05) --------------\")"
   ]
  },
  {
   "cell_type": "markdown",
   "metadata": {},
   "source": [
    "## Diversity\n",
    "- The Diversity label shows diversity with respect to a set of demographic categories of individuals, or a set of categorical attributes of other kinds of items. \n",
    "- This label displays the proportion of each category in the top-10 ranked list and over-all.\n",
    "- Like other labels, it is updated as the user selects different ranking methods or sets different weights. "
   ]
  },
  {
   "cell_type": "code",
   "execution_count": 23,
   "metadata": {},
   "outputs": [],
   "source": [
    "def visualize_diversity(_data, _att, _y_col=\"Score\"):\n",
    "    plt.figure(figsize=[6,5],dpi=100)\n",
    "    sns.set(font_scale = 1)\n",
    "    sns.set_palette(palette=\"pastel\")\n",
    "    sort_data = _data.sort_values(by=_y_col, ascending=False)\n",
    "    vis_count = sort_data[_att].value_counts()\n",
    "    plt.pie(list(vis_count.values), labels=list(vis_count.index));\n",
    "    plt.title(_att)\n",
    "    plt.tight_layout()"
   ]
  },
  {
   "cell_type": "markdown",
   "metadata": {},
   "source": [
    "### Diversity for top-10 ranking"
   ]
  },
  {
   "cell_type": "code",
   "execution_count": 24,
   "metadata": {},
   "outputs": [
    {
     "data": {
      "image/png": "[encoded data removed]",
      "text/plain": [
       "<Figure size 600x500 with 1 Axes>"
      ]
     },
     "metadata": {},
     "output_type": "display_data"
    }
   ],
   "source": [
    "# chosen_atts = [\"Regional Code\", \"Department Size\"] # for CS Ranking\n",
    "# chosen_atts = [\"sex\", \"race\"] # for COMPAS\n",
    "# chosen_atts = [\"sex\", \"race\"] # for adult\n",
    "chosen_atts = [\"Gender\"]\n",
    "for atti in chosen_atts:\n",
    "    visualize_diversity(norm_data.head(10), atti)"
   ]
  },
  {
   "cell_type": "markdown",
   "metadata": {},
   "source": [
    "### Diversity for overall ranking"
   ]
  },
  {
   "cell_type": "code",
   "execution_count": 25,
   "metadata": {},
   "outputs": [
    {
     "data": {
      "image/png": "[encoded data removed]",
      "text/plain": [
       "<Figure size 600x500 with 1 Axes>"
      ]
     },
     "metadata": {},
     "output_type": "display_data"
    }
   ],
   "source": [
    "for atti in chosen_atts:\n",
    "    visualize_diversity(norm_data, atti)"
   ]
  }
 ],
 "metadata": {
  "kernelspec": {
   "display_name": "Python 3",
   "language": "python",
   "name": "python3"
  },
  "language_info": {
   "codemirror_mode": {
    "name": "ipython",
    "version": 3
   },
   "file_extension": ".py",
   "mimetype": "text/x-python",
   "name": "python",
   "nbconvert_exporter": "python",
   "pygments_lexer": "ipython3",
   "version": "3.8.5"
  }
 },
 "nbformat": 4,
 "nbformat_minor": 2
}
